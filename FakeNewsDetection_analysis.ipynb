{
  "cells": [
    {
      "cell_type": "markdown",
      "metadata": {
        "id": "wKVeFc-U6LJL"
      },
      "source": [
        "# FakeNewsDetection"
      ]
    },
    {
      "cell_type": "code",
      "execution_count": 2,
      "metadata": {
        "colab": {
          "base_uri": "https://localhost:8080/"
        },
        "id": "jcQsfnL16LJS",
        "outputId": "347afcc7-e7a0-41ab-8a4f-80381be676a7"
      },
      "outputs": [
        {
          "output_type": "stream",
          "name": "stderr",
          "text": [
            "[nltk_data] Downloading package punkt to /root/nltk_data...\n",
            "[nltk_data]   Package punkt is already up-to-date!\n",
            "[nltk_data] Downloading package stopwords to /root/nltk_data...\n",
            "[nltk_data]   Package stopwords is already up-to-date!\n"
          ]
        }
      ],
      "source": [
        "#Import necessary libraries\n",
        "import pandas as pd\n",
        "import numpy as np\n",
        "import matplotlib.pyplot as plt\n",
        "import warnings\n",
        "warnings.filterwarnings('ignore')\n",
        "import nltk #Import NLTK ---> Natural Language Toolkit\n",
        "nltk.download('punkt')\n",
        "nltk.download('stopwords')\n",
        "from nltk.tokenize import sent_tokenize, word_tokenize, RegexpTokenizer\n",
        "from nltk.corpus import stopwords\n",
        "from nltk.stem import PorterStemmer\n",
        "from sklearn.feature_extraction.text import TfidfVectorizer"
      ]
    },
    {
      "cell_type": "code",
      "execution_count": 3,
      "metadata": {
        "id": "m0Y-oaHy6LJW"
      },
      "outputs": [],
      "source": [
        "#Specify the input filename\n",
        "INPUTFILE = r'fake_news_train.csv'"
      ]
    },
    {
      "cell_type": "code",
      "execution_count": 4,
      "metadata": {
        "id": "m5A2fWd06LJX"
      },
      "outputs": [],
      "source": [
        "#Specify the ratio of test data for prediction\n",
        "test_data_ratio = 0.1"
      ]
    },
    {
      "cell_type": "code",
      "execution_count": 5,
      "metadata": {
        "id": "uAD_3_VF6LJX"
      },
      "outputs": [],
      "source": [
        "# Load the file for analysis. Change the path of the file if required\n",
        "df = pd.read_csv(INPUTFILE, encoding='utf-8',header=0)"
      ]
    },
    {
      "cell_type": "code",
      "execution_count": 6,
      "metadata": {
        "colab": {
          "base_uri": "https://localhost:8080/",
          "height": 206
        },
        "id": "BKiiwEFI6LJY",
        "outputId": "31d3056e-b978-4a0f-e0dc-6dac7af38789"
      },
      "outputs": [
        {
          "output_type": "execute_result",
          "data": {
            "text/plain": [
              "                                           news_text label\n",
              "0  Get the latest from TODAY Sign up for our news...  fake\n",
              "1  2d  Conan On The Funeral Trump Will Be Invited...  fake\n",
              "2  It’s safe to say that Instagram Stories has fa...  real\n",
              "3  Much like a certain Amazon goddess with a lass...  real\n",
              "4  At a time when the perfect outfit is just one ...  real"
            ],
            "text/html": [
              "\n",
              "  <div id=\"df-677e91a3-fac0-4346-bf9d-1e10fcea8afc\">\n",
              "    <div class=\"colab-df-container\">\n",
              "      <div>\n",
              "<style scoped>\n",
              "    .dataframe tbody tr th:only-of-type {\n",
              "        vertical-align: middle;\n",
              "    }\n",
              "\n",
              "    .dataframe tbody tr th {\n",
              "        vertical-align: top;\n",
              "    }\n",
              "\n",
              "    .dataframe thead th {\n",
              "        text-align: right;\n",
              "    }\n",
              "</style>\n",
              "<table border=\"1\" class=\"dataframe\">\n",
              "  <thead>\n",
              "    <tr style=\"text-align: right;\">\n",
              "      <th></th>\n",
              "      <th>news_text</th>\n",
              "      <th>label</th>\n",
              "    </tr>\n",
              "  </thead>\n",
              "  <tbody>\n",
              "    <tr>\n",
              "      <th>0</th>\n",
              "      <td>Get the latest from TODAY Sign up for our news...</td>\n",
              "      <td>fake</td>\n",
              "    </tr>\n",
              "    <tr>\n",
              "      <th>1</th>\n",
              "      <td>2d  Conan On The Funeral Trump Will Be Invited...</td>\n",
              "      <td>fake</td>\n",
              "    </tr>\n",
              "    <tr>\n",
              "      <th>2</th>\n",
              "      <td>It’s safe to say that Instagram Stories has fa...</td>\n",
              "      <td>real</td>\n",
              "    </tr>\n",
              "    <tr>\n",
              "      <th>3</th>\n",
              "      <td>Much like a certain Amazon goddess with a lass...</td>\n",
              "      <td>real</td>\n",
              "    </tr>\n",
              "    <tr>\n",
              "      <th>4</th>\n",
              "      <td>At a time when the perfect outfit is just one ...</td>\n",
              "      <td>real</td>\n",
              "    </tr>\n",
              "  </tbody>\n",
              "</table>\n",
              "</div>\n",
              "      <button class=\"colab-df-convert\" onclick=\"convertToInteractive('df-677e91a3-fac0-4346-bf9d-1e10fcea8afc')\"\n",
              "              title=\"Convert this dataframe to an interactive table.\"\n",
              "              style=\"display:none;\">\n",
              "        \n",
              "  <svg xmlns=\"http://www.w3.org/2000/svg\" height=\"24px\"viewBox=\"0 0 24 24\"\n",
              "       width=\"24px\">\n",
              "    <path d=\"M0 0h24v24H0V0z\" fill=\"none\"/>\n",
              "    <path d=\"M18.56 5.44l.94 2.06.94-2.06 2.06-.94-2.06-.94-.94-2.06-.94 2.06-2.06.94zm-11 1L8.5 8.5l.94-2.06 2.06-.94-2.06-.94L8.5 2.5l-.94 2.06-2.06.94zm10 10l.94 2.06.94-2.06 2.06-.94-2.06-.94-.94-2.06-.94 2.06-2.06.94z\"/><path d=\"M17.41 7.96l-1.37-1.37c-.4-.4-.92-.59-1.43-.59-.52 0-1.04.2-1.43.59L10.3 9.45l-7.72 7.72c-.78.78-.78 2.05 0 2.83L4 21.41c.39.39.9.59 1.41.59.51 0 1.02-.2 1.41-.59l7.78-7.78 2.81-2.81c.8-.78.8-2.07 0-2.86zM5.41 20L4 18.59l7.72-7.72 1.47 1.35L5.41 20z\"/>\n",
              "  </svg>\n",
              "      </button>\n",
              "      \n",
              "  <style>\n",
              "    .colab-df-container {\n",
              "      display:flex;\n",
              "      flex-wrap:wrap;\n",
              "      gap: 12px;\n",
              "    }\n",
              "\n",
              "    .colab-df-convert {\n",
              "      background-color: #E8F0FE;\n",
              "      border: none;\n",
              "      border-radius: 50%;\n",
              "      cursor: pointer;\n",
              "      display: none;\n",
              "      fill: #1967D2;\n",
              "      height: 32px;\n",
              "      padding: 0 0 0 0;\n",
              "      width: 32px;\n",
              "    }\n",
              "\n",
              "    .colab-df-convert:hover {\n",
              "      background-color: #E2EBFA;\n",
              "      box-shadow: 0px 1px 2px rgba(60, 64, 67, 0.3), 0px 1px 3px 1px rgba(60, 64, 67, 0.15);\n",
              "      fill: #174EA6;\n",
              "    }\n",
              "\n",
              "    [theme=dark] .colab-df-convert {\n",
              "      background-color: #3B4455;\n",
              "      fill: #D2E3FC;\n",
              "    }\n",
              "\n",
              "    [theme=dark] .colab-df-convert:hover {\n",
              "      background-color: #434B5C;\n",
              "      box-shadow: 0px 1px 3px 1px rgba(0, 0, 0, 0.15);\n",
              "      filter: drop-shadow(0px 1px 2px rgba(0, 0, 0, 0.3));\n",
              "      fill: #FFFFFF;\n",
              "    }\n",
              "  </style>\n",
              "\n",
              "      <script>\n",
              "        const buttonEl =\n",
              "          document.querySelector('#df-677e91a3-fac0-4346-bf9d-1e10fcea8afc button.colab-df-convert');\n",
              "        buttonEl.style.display =\n",
              "          google.colab.kernel.accessAllowed ? 'block' : 'none';\n",
              "\n",
              "        async function convertToInteractive(key) {\n",
              "          const element = document.querySelector('#df-677e91a3-fac0-4346-bf9d-1e10fcea8afc');\n",
              "          const dataTable =\n",
              "            await google.colab.kernel.invokeFunction('convertToInteractive',\n",
              "                                                     [key], {});\n",
              "          if (!dataTable) return;\n",
              "\n",
              "          const docLinkHtml = 'Like what you see? Visit the ' +\n",
              "            '<a target=\"_blank\" href=https://colab.research.google.com/notebooks/data_table.ipynb>data table notebook</a>'\n",
              "            + ' to learn more about interactive tables.';\n",
              "          element.innerHTML = '';\n",
              "          dataTable['output_type'] = 'display_data';\n",
              "          await google.colab.output.renderOutput(dataTable, element);\n",
              "          const docLink = document.createElement('div');\n",
              "          docLink.innerHTML = docLinkHtml;\n",
              "          element.appendChild(docLink);\n",
              "        }\n",
              "      </script>\n",
              "    </div>\n",
              "  </div>\n",
              "  "
            ]
          },
          "metadata": {},
          "execution_count": 6
        }
      ],
      "source": [
        "df.head()"
      ]
    },
    {
      "cell_type": "code",
      "execution_count": 7,
      "metadata": {
        "id": "ryA6VaDe6LJY"
      },
      "outputs": [],
      "source": [
        "df['label'] = np.where(df['label'] == 'fake', 1, 0)"
      ]
    },
    {
      "cell_type": "code",
      "execution_count": 8,
      "metadata": {
        "colab": {
          "base_uri": "https://localhost:8080/"
        },
        "id": "f6nnyo326LJY",
        "outputId": "b2b8e8bd-ae65-4476-c295-70a015c2af40"
      },
      "outputs": [
        {
          "output_type": "execute_result",
          "data": {
            "text/plain": [
              "(4998, 2)"
            ]
          },
          "metadata": {},
          "execution_count": 8
        }
      ],
      "source": [
        "df.shape"
      ]
    },
    {
      "cell_type": "markdown",
      "metadata": {
        "id": "EoUnk_on6LJY"
      },
      "source": [
        "The data has 2 columns. 'news_text' column which contains the text which has the News data and 'label' column which contains the label if the news is Real or Fake **{fake, real}**"
      ]
    },
    {
      "cell_type": "code",
      "execution_count": 9,
      "metadata": {
        "colab": {
          "base_uri": "https://localhost:8080/",
          "height": 352
        },
        "id": "DmAhMCMd6LJZ",
        "outputId": "58921bc2-0ba3-46be-8e08-790dad196aad"
      },
      "outputs": [
        {
          "output_type": "execute_result",
          "data": {
            "text/plain": [
              "([<matplotlib.patches.Wedge at 0x7ff3a2f11dd0>,\n",
              "  <matplotlib.patches.Wedge at 0x7ff3a2f20910>],\n",
              " [Text(-1.1464648034448126, 0.3544269381159497, 'fake'),\n",
              "  Text(1.1464648034448124, -0.35442693811595033, 'real')],\n",
              " [Text(-0.6687711353428074, 0.20674904723430398, '40.5%'),\n",
              "  Text(0.6687711353428072, -0.20674904723430432, '59.5%')])"
            ]
          },
          "metadata": {},
          "execution_count": 9
        },
        {
          "output_type": "display_data",
          "data": {
            "text/plain": [
              "<Figure size 432x288 with 1 Axes>"
            ],
            "image/png": "[encoded data removed]"
          },
          "metadata": {}
        }
      ],
      "source": [
        "#Plot the distribution of the label column in the data\n",
        "cat_target=df.label\n",
        "label_size = [cat_target.sum(),len(cat_target)-cat_target.sum()]\n",
        "plt.pie(label_size,explode=[0.1,0.1],colors=['darkgrey','darkorange'],startangle=90,shadow=True,labels=['fake','real'],autopct='%1.1f%%')"
      ]
    },
    {
      "cell_type": "code",
      "execution_count": 10,
      "metadata": {
        "id": "f5zXhDxs6LJa"
      },
      "outputs": [],
      "source": [
        "# create a function to preprocess the data\n",
        "def preprocess_data(data):\n",
        "  \n",
        "  # 1. Tokenization\n",
        "    tk = RegexpTokenizer('\\s+', gaps = True)\n",
        "    text_data = [] # List for storing the tokenized data\n",
        "    for values in data.news_text:\n",
        "        tokenized_data = tk.tokenize(values) # Tokenize the news\n",
        "        text_data.append(tokenized_data) # append the tokenized data\n",
        "\n",
        "  # 2. Stopword Removal\n",
        "\n",
        "  # Extract the stopwords\n",
        "    sw = stopwords.words('english')\n",
        "    clean_data = [] # List for storing the clean text\n",
        "  # Remove the stopwords using stopwords\n",
        "    for data in text_data:\n",
        "        clean_text = [words.lower() for words in data if words.lower() not in sw]\n",
        "        clean_data.append(clean_text) # Appned the clean_text in the clean_data list\n",
        "  \n",
        "  # 3. Stemming\n",
        "\n",
        "  # Create a stemmer object\n",
        "    ps = PorterStemmer()\n",
        "    stemmed_data = [] # List for storing the stemmed data\n",
        "    for data in clean_data:\n",
        "        stemmed_text = [ps.stem(words) for words in data] # Stem the words\n",
        "        stemmed_data.append(stemmed_text) # Append the stemmed text\n",
        "  \n",
        "\n",
        "  # 4. tfidf vectorizer --> Term Frequency Inverse Document Frequency  \n",
        "  # Flatten the stemmed data\n",
        "\n",
        "    updated_data = []\n",
        "    for data in stemmed_data:\n",
        "        updated_data.append(\" \".join(data))\n",
        "\n",
        "  # TFID Vector object\n",
        "    tfidf = TfidfVectorizer()\n",
        "    tfidf_matrix = tfidf.fit_transform(updated_data)\n",
        "\n",
        "    return tfidf_matrix"
      ]
    },
    {
      "cell_type": "code",
      "execution_count": 11,
      "metadata": {
        "id": "NUpho6956LJa"
      },
      "outputs": [],
      "source": [
        "# preprocess the text data\n",
        "preprocessed_data = preprocess_data(df.drop('label', axis=1))"
      ]
    },
    {
      "cell_type": "code",
      "execution_count": 12,
      "metadata": {
        "id": "UIKG8C756LJb"
      },
      "outputs": [],
      "source": [
        "features_df = pd.DataFrame(preprocessed_data.toarray())\n",
        "datadf = pd.concat([features_df,df['label']],axis=1)"
      ]
    },
    {
      "cell_type": "code",
      "execution_count": 13,
      "metadata": {
        "id": "2Ie3Prgn6LJb"
      },
      "outputs": [],
      "source": [
        "# Split data into train & test in the ratio of 80:20\n",
        "from sklearn.model_selection import train_test_split \n",
        "X_train, X_test, y_train, y_test = train_test_split(datadf, datadf.label, test_size=test_data_ratio, random_state = 42)"
      ]
    },
    {
      "cell_type": "code",
      "execution_count": 14,
      "metadata": {
        "id": "py-sm1VW6LJc"
      },
      "outputs": [],
      "source": [
        "# Evaluation Metrics for Classification models\n",
        "from sklearn import metrics\n",
        "from sklearn.metrics import confusion_matrix, ConfusionMatrixDisplay\n",
        "\n",
        "# Function for deriving a classification report & Confusion matrix for any algorithm\n",
        "def compute_metrics(data, y_true, model_obj, model):\n",
        "\n",
        "        # Make predictions\n",
        "    y_pred = model_obj.predict(data)\n",
        "    print(metrics.classification_report(y_true, y_pred,target_names = ['real', 'fake']))\n",
        "    \n",
        "    cm = confusion_matrix(y_true, y_pred, labels=model_obj.classes_)\n",
        "    disp = ConfusionMatrixDisplay(confusion_matrix=cm,display_labels=['real', 'fake'])\n",
        "    disp.plot()\n",
        "    plt.show()"
      ]
    },
    {
      "cell_type": "code",
      "execution_count": 15,
      "metadata": {
        "colab": {
          "base_uri": "https://localhost:8080/"
        },
        "id": "c2Z23iy-6LJd",
        "outputId": "5dcc3d22-5e37-4afe-b6ea-2c75181c70e1"
      },
      "outputs": [
        {
          "output_type": "execute_result",
          "data": {
            "text/plain": [
              "MultinomialNB(alpha=0.0)"
            ]
          },
          "metadata": {},
          "execution_count": 15
        }
      ],
      "source": [
        "# Import Naive Bayes model from sklearn library\n",
        "from sklearn.naive_bayes import MultinomialNB\n",
        "\n",
        "# Initialize the model \n",
        "mnb = MultinomialNB(alpha=0.0)\n",
        "\n",
        "# Fit the model\n",
        "mnb.fit(X_train, y_train)"
      ]
    },
    {
      "cell_type": "code",
      "execution_count": 16,
      "metadata": {
        "colab": {
          "base_uri": "https://localhost:8080/",
          "height": 435
        },
        "id": "pQOAFKiF6LJe",
        "outputId": "e792fc1f-c0cf-4a06-d3ed-00ac2b53ca31"
      },
      "outputs": [
        {
          "output_type": "stream",
          "name": "stdout",
          "text": [
            "              precision    recall  f1-score   support\n",
            "\n",
            "        real       1.00      0.99      0.99      2680\n",
            "        fake       0.98      1.00      0.99      1818\n",
            "\n",
            "    accuracy                           0.99      4498\n",
            "   macro avg       0.99      0.99      0.99      4498\n",
            "weighted avg       0.99      0.99      0.99      4498\n",
            "\n"
          ]
        },
        {
          "output_type": "display_data",
          "data": {
            "text/plain": [
              "<Figure size 432x288 with 2 Axes>"
            ],
            "image/png": "[encoded data removed]"
          },
          "metadata": {
            "needs_background": "light"
          }
        }
      ],
      "source": [
        "#  Compute the Evaluation Metrics for train set of Naive Bayes model\n",
        "mnb_metrics_train = compute_metrics(X_train, y_train, mnb, 'Naive Bayes')\n",
        "mnb_metrics_train"
      ]
    },
    {
      "cell_type": "code",
      "execution_count": 17,
      "metadata": {
        "colab": {
          "base_uri": "https://localhost:8080/",
          "height": 435
        },
        "id": "j9pvmLeo6LJe",
        "outputId": "a8233cce-f026-485e-a11d-8b8a98604ab1"
      },
      "outputs": [
        {
          "output_type": "stream",
          "name": "stdout",
          "text": [
            "              precision    recall  f1-score   support\n",
            "\n",
            "        real       1.00      0.84      0.91       296\n",
            "        fake       0.81      1.00      0.90       204\n",
            "\n",
            "    accuracy                           0.91       500\n",
            "   macro avg       0.91      0.92      0.91       500\n",
            "weighted avg       0.92      0.91      0.91       500\n",
            "\n"
          ]
        },
        {
          "output_type": "display_data",
          "data": {
            "text/plain": [
              "<Figure size 432x288 with 2 Axes>"
            ],
            "image/png": "[encoded data removed]"
          },
          "metadata": {
            "needs_background": "light"
          }
        }
      ],
      "source": [
        "#  Compute the Evaluation Metrics for test set of Naive Bayes model\n",
        "mnb_metrics = compute_metrics(X_test, y_test, mnb, 'Naive Bayes')\n",
        "mnb_metrics"
      ]
    },
    {
      "cell_type": "code",
      "execution_count": null,
      "metadata": {
        "id": "4XiGupXE6LJe"
      },
      "outputs": [],
      "source": [
        ""
      ]
    }
  ],
  "metadata": {
    "kernelspec": {
      "display_name": "Python 3 (ipykernel)",
      "language": "python",
      "name": "python3"
    },
    "language_info": {
      "codemirror_mode": {
        "name": "ipython",
        "version": 3
      },
      "file_extension": ".py",
      "mimetype": "text/x-python",
      "name": "python",
      "nbconvert_exporter": "python",
      "pygments_lexer": "ipython3",
      "version": "3.9.6"
    },
    "colab": {
      "name": "FakeNewsDetection-analysis.ipynb",
      "provenance": []
    }
  },
  "nbformat": 4,
  "nbformat_minor": 0
}